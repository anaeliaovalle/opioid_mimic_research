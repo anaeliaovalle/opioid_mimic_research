{
 "cells": [
  {
   "cell_type": "markdown",
   "metadata": {},
   "source": [
    "# Opioid Study Data Collection\n",
    "#### Defined study plan: https://docs.google.com/document/d/1kkTbheDP5vS8rh_C6W1U7qzthkScqrzKBjd0jSY3j48/edit\n",
    "The main pieces consist of:\n",
    "\n",
    "1. Inclusion/Exclusion Criteria\n",
    "2. Demographic Data\n",
    "3. Clinical Data\n",
    "\n",
    "#### About: \n",
    "- Below I use PostgresSQL to query MIMIC-3 through a PostgresSQL adapter for Python\n",
    "- Each step for collection is outlined below and the steps build on eachother\n",
    "- Each step will have some relevant info to give context. In the SQL code, if the line starts with \"--\" it's a readable comment for more clarification on what the code does\n",
    "- Once I write the SQL code, it is rendered as a Pandas dataframe, which is a really flexible library for data manipulation. From here, I can export the data to a common output format (.csv, .xslm, .tsv, etc.)"
   ]
  },
  {
   "cell_type": "code",
   "execution_count": 525,
   "metadata": {},
   "outputs": [
    {
     "data": {
      "text/html": [
       "<style>.container { width:100% !important; }</style>"
      ],
      "text/plain": [
       "<IPython.core.display.HTML object>"
      ]
     },
     "metadata": {},
     "output_type": "display_data"
    }
   ],
   "source": [
    "# Import libraries\n",
    "import numpy as np\n",
    "import pandas as pd\n",
    "import matplotlib.pyplot as plt\n",
    "import psycopg2\n",
    "from IPython.display import display, HTML # used to print out pretty pandas dataframes\n",
    "display(HTML(\"<style>.container { width:100% !important; }</style>\")) # widest display\n",
    "import matplotlib.dates as dates\n",
    "import finddrugs\n",
    "import matplotlib.lines as mlines\n",
    "import queries\n",
    "import finddrugs_refactor as finder\n",
    "import notebook_helper as helper\n",
    "\n",
    "pd.options.display.max_colwidth = 1000\n",
    "pd.options.display.width = 1000\n",
    "pd.options.display.max_columns = 1000\n",
    "pd.options.display.max_rows = 3\n",
    "\n",
    "\n",
    "%matplotlib inline\n",
    "plt.style.use('ggplot') \n",
    "\n",
    "# specify user/password/where the database is\n",
    "sqluser = 'eightiesfanjan'\n",
    "sqlpass = 'squiggle'\n",
    "dbname = 'mimic'\n",
    "schema_name = 'mimiciii'\n",
    "host = 'localhost'\n",
    "\n",
    "query_schema = 'SET search_path to ' + schema_name + ';'\n",
    "\n",
    "# connect to the database\n",
    "con = psycopg2.connect(dbname=dbname, user=sqluser, password=sqlpass, host=host)"
   ]
  },
  {
   "cell_type": "code",
   "execution_count": 675,
   "metadata": {},
   "outputs": [
    {
     "data": {
      "text/plain": [
       "<module 'finddrugs_refactor' from 'finddrugs_refactor.pyc'>"
      ]
     },
     "execution_count": 675,
     "metadata": {},
     "output_type": "execute_result"
    }
   ],
   "source": [
    "reload(queries)\n",
    "reload(helper)\n",
    "reload(finder)"
   ]
  },
  {
   "cell_type": "code",
   "execution_count": 671,
   "metadata": {
    "collapsed": true
   },
   "outputs": [],
   "source": [
    "# outputfile = 'phaseone_v0.csv'\n",
    "# data_w_first_outcomes.to_csv(outputfile)"
   ]
  },
  {
   "cell_type": "markdown",
   "metadata": {},
   "source": [
    "## Phase 3: Clinical Data\n",
    "Steps: \n",
    "    1. Extract reason for admission from icd9 code array\n",
    "    2. Locate SOFA score\n",
    "    3. Locate use of ALL mechanical ventilation\n",
    "    4. Create flag from mechanical ventilation\n",
    "    5. Extract duration from ventilation\n",
    "    6. Locate ICD9 codes for Pressors\n",
    "    7. Create flags based on specified pressors\n",
    "    8. Locate ICD9 codes for dialysis\n",
    "    9. Creates flags for dialysis\n"
   ]
  }
 ],
 "metadata": {
  "kernelspec": {
   "display_name": "Python 2",
   "language": "python",
   "name": "python2"
  },
  "language_info": {
   "codemirror_mode": {
    "name": "ipython",
    "version": 2
   },
   "file_extension": ".py",
   "mimetype": "text/x-python",
   "name": "python",
   "nbconvert_exporter": "python",
   "pygments_lexer": "ipython2",
   "version": "2.7.11"
  }
 },
 "nbformat": 4,
 "nbformat_minor": 1
}
